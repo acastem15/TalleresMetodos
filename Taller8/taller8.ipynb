{
 "cells": [
  {
   "cell_type": "code",
   "execution_count": 2,
   "metadata": {},
   "outputs": [
    {
     "name": "stdout",
     "output_type": "stream",
     "text": [
      "                                        Variable name  \\\n",
      "0   ----------------------------------------------...   \n",
      "1                                                inlf   \n",
      "2                                       horas_esposa    \n",
      "3                                               hijos   \n",
      "4                                         edad_esposa   \n",
      "5                                         educ_esposa   \n",
      "6                                        horas_esposo   \n",
      "7                                         edad_esposo   \n",
      "8                                         educ_esposo   \n",
      "9                                             ingreso   \n",
      "10                                       exper_esposa   \n",
      "11                                            d_hijo6   \n",
      "12                                     salario_esposa   \n",
      "13                                     salario_esposo   \n",
      "14                                        Tipo_empleo   \n",
      "15                                    Dpto_residencia   \n",
      "\n",
      "                                         Storage type  \\\n",
      "0                                                 NaN   \n",
      "1   byte    %9.0g                 =1 si participa ...   \n",
      "2                                      int     %9.0g    \n",
      "3                                       byte    %9.0g   \n",
      "4                                       byte    %9.0g   \n",
      "5                                       byte    %9.0g   \n",
      "6                                       int     %9.0g   \n",
      "7                                       byte    %9.0g   \n",
      "8                                       byte    %9.0g   \n",
      "9                                       float   %9.0g   \n",
      "10                                      byte    %9.0g   \n",
      "11                                      float   %9.0g   \n",
      "12                                              float   \n",
      "13                                              float   \n",
      "14                                              float   \n",
      "15                                               byte   \n",
      "\n",
      "                   Display format  \\\n",
      "0                             NaN   \n",
      "1                             NaN   \n",
      "2                 horas laboradas   \n",
      "3                                   \n",
      "4                    edad en años   \n",
      "5                  años educacion   \n",
      "6   horas laboradas por el esposo   \n",
      "7         años de edad del esposo   \n",
      "8           años educacion esposo   \n",
      "9                                   \n",
      "10    experiencia laboral en años   \n",
      "11                                  \n",
      "12                          %9.0g   \n",
      "13                          %9.0g   \n",
      "14                          %9.0g   \n",
      "15                          %8.0g   \n",
      "\n",
      "                                     Value label  Variable label  \n",
      "0                                            NaN             NaN  \n",
      "1                                            NaN             NaN  \n",
      "2                                            NaN             NaN  \n",
      "3                  nñmero hijos menores a 6 años             NaN  \n",
      "4                                            NaN             NaN  \n",
      "5                                            NaN             NaN  \n",
      "6                                            NaN             NaN  \n",
      "7                                            NaN             NaN  \n",
      "8                                            NaN             NaN  \n",
      "9                      ingreso del hogar mensual             NaN  \n",
      "10                                           NaN             NaN  \n",
      "11  =1 si tiene al menos un hijo menor de 6 años             NaN  \n",
      "12                       alario laboral por hora             NaN  \n",
      "13           salario laboral del esposo por hora             NaN  \n",
      "14                                                           NaN  \n",
      "15                                           NaN             NaN  \n",
      "     inlf  horas_esposa  hijos  edad_esposa  educ_esposa  horas_esposo  \\\n",
      "0       1          1610      1           32           12          2708   \n",
      "1       1          1656      0           30           12          2310   \n",
      "2       1          1980      1           35           12          3072   \n",
      "3       1           456      0           34           12          1920   \n",
      "4       1          1568      1           31           14          2000   \n",
      "..    ...           ...    ...          ...          ...           ...   \n",
      "748     0             0      0           40           13          3020   \n",
      "749     0             0      2           31           12          2056   \n",
      "750     0             0      0           43           12          2383   \n",
      "751     0             0      0           60           12          1705   \n",
      "752     0             0      0           39            9          3120   \n",
      "\n",
      "     edad_esposo  educ_esposo  ingreso  exper_esposa  d_hijo6  salario_esposa  \\\n",
      "0             34           12   815500            14        1      12745.2000   \n",
      "1             30            9  1090000             5        0       5277.8203   \n",
      "2             40           12  1052000            15        1      17272.8980   \n",
      "3             53           10   365000             6        0       4166.7002   \n",
      "4             32           12  1365000             7        1      17448.8400   \n",
      "..           ...          ...      ...           ...      ...             ...   \n",
      "748           43           16  1410000             5        0          0.0000   \n",
      "749           33           12   500000            14        1          0.0000   \n",
      "750           43           12   497600             4        0          0.0000   \n",
      "751           55            8  1249200            15        0          0.0000   \n",
      "752           48           12  1418150            12        0          0.0000   \n",
      "\n",
      "     salario_esposo  Tipo_empleo  Dpto_residencia  \n",
      "0        15309.4400          1.0                3  \n",
      "1        32078.0800          1.0                1  \n",
      "2        13606.6600          1.0                2  \n",
      "3        13458.4600          1.0                2  \n",
      "4        38000.0000          1.0                2  \n",
      "..              ...          ...              ...  \n",
      "748      35231.6990          1.0                1  \n",
      "749      18482.4390          1.0                3  \n",
      "750       4141.2402          1.0                2  \n",
      "751      47272.0000          1.0                2  \n",
      "752      23140.8610          2.0                1  \n",
      "\n",
      "[753 rows x 15 columns]\n"
     ]
    }
   ],
   "source": [
    "import pandas as pd \n",
    "import numpy as np \n",
    "import matplotlib.pyplot as plt\n",
    "from random import sample\n",
    "import os\n",
    "current= os.path.abspath(\"taller8.ipynb\")\n",
    "rutaInformacion=os.path.join(current, \"informacion.txt\")\n",
    "rutaTrabajo=os.path.join(current, \"trabajo.txt\")\n",
    "\n",
    "info = pd.read_csv(\"informacion.txt\",  delimiter= \"\\t\")\n",
    "print(info)\n",
    "\n",
    "datos=pd.read_csv(\"trabajo.txt\",delimiter=\"\\t\")\n",
    "print(datos)\n"
   ]
  },
  {
   "cell_type": "code",
   "execution_count": 3,
   "metadata": {},
   "outputs": [
    {
     "name": "stdout",
     "output_type": "stream",
     "text": [
      "     inlf  horas_esposa  hijos  edad_esposa  educ_esposa  horas_esposo  \\\n",
      "737     0             0      0           43            9          1640   \n",
      "260     1           200      0           54           12          2040   \n",
      "353     1           690      0           34           12          1824   \n",
      "616     0             0      2           30            7          1920   \n",
      "148     1          1771      0           53           14          1913   \n",
      "437     0             0      0           38           10          2352   \n",
      "79      1          1174      0           58           12          1948   \n",
      "64      1           419      0           41           12          2125   \n",
      "748     0             0      0           40           13          3020   \n",
      "585     0             0      0           57            5          1520   \n",
      "301     1           345      0           43           17          1847   \n",
      "19      1          1324      0           35           12          2123   \n",
      "225     1          1030      0           43           17          2585   \n",
      "90      1          2100      0           44           12          1984   \n",
      "634     0             0      0           35           11          1785   \n",
      "18      1          2000      0           45           12          2024   \n",
      "278     1          1120      0           38           12          2420   \n",
      "685     0             0      1           36           12          2048   \n",
      "422     1           460      2           32           17          1850   \n",
      "647     0             0      0           49           12          1880   \n",
      "343     1          1678      0           44           12          2032   \n",
      "407     1           120      1           36           12          2500   \n",
      "191     1           520      0           39           11          3542   \n",
      "443     0             0      0           44           12          4640   \n",
      "646     0             0      1           34           17          2940   \n",
      "602     0             0      1           33           12          2970   \n",
      "588     0             0      0           44           12          2250   \n",
      "83      1           282      0           56           14          1176   \n",
      "110     1           215      2           31           17          1920   \n",
      "362     1           180      0           39           14          2500   \n",
      "402     1          3000      0           51           14          2595   \n",
      "228     1           112      0           52           12          2924   \n",
      "57      1          2052      0           34           17          2020   \n",
      "226     1          1250      0           42           12          2250   \n",
      "490     0             0      0           38           12          3173   \n",
      "151     1          1820      1           33           15          1993   \n",
      "391     1          2110      0           35           15          2777   \n",
      "24      1          1955      1           31           12          2024   \n",
      "564     0             0      0           48            6          1820   \n",
      "96      1           988      0           45           12          1920   \n",
      "573     0             0      2           38           17          2280   \n",
      "424     1          2450      0           40           12          2008   \n",
      "559     0             0      1           30           12          2315   \n",
      "40      1           112      1           30           12          4030   \n",
      "686     0             0      0           54           15          1920   \n",
      "27      1          1904      0           32           12          2000   \n",
      "43      1           480      0           48           12          3149   \n",
      "385     1          1568      0           41           16          2602   \n",
      "570     0             0      1           43           12          1920   \n",
      "507     0             0      0           42           12          2990   \n",
      "\n",
      "     edad_esposo  educ_esposo  ingreso  exper_esposa  d_hijo6  salario_esposa  \\\n",
      "737           45           12   594750            17        0          0.0000   \n",
      "260           54           16  1760350             3        0       6650.0000   \n",
      "353           36           13   740000            16        0       4405.7197   \n",
      "616           35            7   810000             8        1          0.0000   \n",
      "148           48           16  2100000            17        0       4291.3398   \n",
      "437           41            8   791500             5        0          0.0000   \n",
      "79            59           16  1767500             6        0       9710.5195   \n",
      "64            44           12   597500            12        0      45345.3980   \n",
      "748           43           16  1410000             5        0          0.0000   \n",
      "585           58            5   317000             0        0          0.0000   \n",
      "301           46           17  1097500            13        0      29078.3610   \n",
      "19            40           10  1015000             9        0      28701.0200   \n",
      "225           46           16  1395000             6        0      20291.2400   \n",
      "90            43           14  1415800            16        0      18234.6820   \n",
      "634           39           10   618350             1        0          0.0000   \n",
      "18            51           11   905000            23        0       7600.0000   \n",
      "278           42           12  1310050            19        0      30535.6600   \n",
      "685           41           12   882000             4        1          0.0000   \n",
      "422           31           17   865000            14        1      18173.8790   \n",
      "647           50           12   907500             3        0          0.0000   \n",
      "343           46           12   865100            14        0       8379.0000   \n",
      "407           35           12  1200000             4        1      95000.0000   \n",
      "191           40           12   890000            11        0      13153.7000   \n",
      "443           50           12   656300             3        0          0.0000   \n",
      "646           40           16  4800000             1        1          0.0000   \n",
      "602           34           13  1175000             5        1          0.0000   \n",
      "588           45           12  1070850             7        0          0.0000   \n",
      "83            57           17  1285000             6        0      13475.1800   \n",
      "110           32           16   812250             7        1      35348.7420   \n",
      "362           37           17  1325000             7        0      10555.6410   \n",
      "402           53           16  1415000             0        0       3800.0000   \n",
      "228           53           12  1475000            24        0      23750.0000   \n",
      "57            33           17  1865000            10        0      30555.4200   \n",
      "226           46           17  1281650             7        0      15200.0000   \n",
      "490           46           14  1223500            12        0          0.0000   \n",
      "151           32           16  1076000            11        1       9395.5000   \n",
      "391           34           12   781000            14        0      18909.9390   \n",
      "24            31           12   624350             4        1       8187.1001   \n",
      "564           55           12   862900            20        0          0.0000   \n",
      "96            44           10  1430000            24        0      18461.5410   \n",
      "573           39           12   930000            15        1          0.0000   \n",
      "424           40            8  1782050            21        0      20163.1800   \n",
      "559           31           13   969600             8        1          0.0000   \n",
      "40            33           16   790500             1        1      10178.6810   \n",
      "686           52           15  1000000             6        0          0.0000   \n",
      "27            33           13  1300000             9        0      17962.2210   \n",
      "43            48            8  1108600            10        0      17242.5000   \n",
      "385           44           17  4540000            19        0      26658.1390   \n",
      "570           41           12   653750            17        1          0.0000   \n",
      "507           46           12   805000             2        0          0.0000   \n",
      "\n",
      "     salario_esposo  Tipo_empleo  Dpto_residencia  \n",
      "737      14585.9200          2.0                2  \n",
      "260      59606.8010          1.0                3  \n",
      "353      29166.5200          1.0                3  \n",
      "616      15437.5000          1.0                3  \n",
      "148      65550.0000          2.0                1  \n",
      "437      20195.4800          1.0                1  \n",
      "79       35112.7620          2.0                3  \n",
      "64       12160.0000          1.0                1  \n",
      "748      35231.6990          1.0                1  \n",
      "585      13749.9200          1.0                3  \n",
      "301      37094.8400          1.0                3  \n",
      "19       17899.1410          2.0                3  \n",
      "225      29400.2190          2.0                1  \n",
      "90       33614.0430          2.0                2  \n",
      "634      24411.5800          2.0                1  \n",
      "18       26284.6000          2.0                2  \n",
      "278      26695.7600          2.0                3  \n",
      "685      20038.9200          1.0                2  \n",
      "422      30810.7790          2.0                2  \n",
      "647      36383.1020          2.0                3  \n",
      "343      13178.3990          2.0                1  \n",
      "407      31919.9980          2.0                3  \n",
      "191      11801.2800          1.0                1  \n",
      "443       7026.5801          2.0                1  \n",
      "646      90478.0000          2.0                3  \n",
      "602      30067.5000          1.0                1  \n",
      "588      25840.0000          1.0                3  \n",
      "83       79488.3980          2.0                1  \n",
      "110      27708.4590          2.0                3  \n",
      "362      38000.0000          2.0                2  \n",
      "402      33680.1600          1.0                2  \n",
      "228      24042.2210          1.0                1  \n",
      "57       33485.2190          2.0                3  \n",
      "226      34846.7620          1.0                3  \n",
      "490      28455.1600          2.0                1  \n",
      "151      31460.2010          1.0                1  \n",
      "391       7006.0601          2.0                3  \n",
      "24       15535.9200          2.0                1  \n",
      "564      20461.4800          2.0                3  \n",
      "96       29687.5000          2.0                2  \n",
      "573      27468.2990          1.0                2  \n",
      "424      27629.4200          2.0                3  \n",
      "559      31680.2190          1.0                1  \n",
      "40       14615.5600          1.0                2  \n",
      "686      39584.5980          1.0                3  \n",
      "27       32300.0000          2.0                3  \n",
      "43       24127.3400          2.0                2  \n",
      "385      48427.2030          1.0                2  \n",
      "570      25877.6190          1.0                2  \n",
      "507       8890.0996          1.0                1  \n"
     ]
    }
   ],
   "source": [
    "#Muestra aleatoria\n",
    "n = 50\n",
    "indices = sample(list(datos.index), n)\n",
    "newDatos = datos.sample(n = 50)\n",
    "print(newDatos)\n"
   ]
  },
  {
   "cell_type": "code",
   "execution_count": 4,
   "metadata": {},
   "outputs": [
    {
     "data": {
      "text/plain": [
       "'\\nenMercadoLab= datos[\"inlf\"][indices]  \\nhorasLaboradasM=  datos[\"horas_esposa\"][indices]  \\nhijos=  datos[\"hijos\"][indices] \\nedadM=  datos[\"edad_esposa\"][indices]  \\ntiempoEducacionM=  datos[\"educ_esposa\"][indices] \\n\\nhorasLaboradasH =  datos[\"horas_esposo\"][indices]\\nedadH =  datos[\"edad_esposo\"][indices]  \\ntiempoEducacionH =  datos[\"educ_esposo\"][indices] \\ningreso =  datos[\"ingreso\"][indices]  \\nexperM =  datos[\"exper_esposa\"][indices]  \\nhijos6 =  datos[\"d_hijo6\"][indices]  \\n\\nsalarioM =  datos[\"salario_esposa\"][indices]  \\nsalarioH =  datos[\"salario_esposo\"][indices]  \\ntipoEmpleo =  datos[\"Tipo_empleo\"][indices]  \\ndptoResidencia =  datos[\"Dpto_residencia\"][indices]  \\n'"
      ]
     },
     "execution_count": 4,
     "metadata": {},
     "output_type": "execute_result"
    }
   ],
   "source": [
    "#Sacar columnas en variables \n",
    "\n",
    "enMercadoLab= newDatos[\"inlf\"]\n",
    "horasLaboradasM=  newDatos[\"horas_esposa\"]\n",
    "hijos=  newDatos[\"hijos\"]\n",
    "edadM=  newDatos[\"edad_esposa\"]\n",
    "tiempoEducacionM=  newDatos[\"educ_esposa\"]\n",
    "\n",
    "horasLaboradasH =  newDatos[\"horas_esposo\"]\n",
    "edadH = newDatos[\"edad_esposo\"]\n",
    "tiempoEducacionH =  newDatos[\"educ_esposo\"]\n",
    "ingreso =  newDatos[\"ingreso\"] \n",
    "experM =  newDatos[\"exper_esposa\"]\n",
    "hijos6 = newDatos[\"d_hijo6\"]\n",
    "\n",
    "salarioM =  newDatos[\"salario_esposa\"] \n",
    "salarioH =  newDatos[\"salario_esposo\"] \n",
    "tipoEmpleo =  newDatos[\"Tipo_empleo\"]\n",
    "dptoResidencia = newDatos[\"Dpto_residencia\"]\n",
    "\"\"\"\n",
    "enMercadoLab= datos[\"inlf\"][indices]  \n",
    "horasLaboradasM=  datos[\"horas_esposa\"][indices]  \n",
    "hijos=  datos[\"hijos\"][indices] \n",
    "edadM=  datos[\"edad_esposa\"][indices]  \n",
    "tiempoEducacionM=  datos[\"educ_esposa\"][indices] \n",
    "\n",
    "horasLaboradasH =  datos[\"horas_esposo\"][indices]\n",
    "edadH =  datos[\"edad_esposo\"][indices]  \n",
    "tiempoEducacionH =  datos[\"educ_esposo\"][indices] \n",
    "ingreso =  datos[\"ingreso\"][indices]  \n",
    "experM =  datos[\"exper_esposa\"][indices]  \n",
    "hijos6 =  datos[\"d_hijo6\"][indices]  \n",
    "\n",
    "salarioM =  datos[\"salario_esposa\"][indices]  \n",
    "salarioH =  datos[\"salario_esposo\"][indices]  \n",
    "tipoEmpleo =  datos[\"Tipo_empleo\"][indices]  \n",
    "dptoResidencia =  datos[\"Dpto_residencia\"][indices]  \n",
    "\"\"\"\n",
    "\n"
   ]
  },
  {
   "cell_type": "markdown",
   "metadata": {},
   "source": [
    "Frecuencias"
   ]
  },
  {
   "cell_type": "code",
   "execution_count": 28,
   "metadata": {},
   "outputs": [
    {
     "data": {
      "image/png": "[encoded data removed]",
      "text/plain": [
       "<Figure size 432x288 with 1 Axes>"
      ]
     },
     "metadata": {
      "needs_background": "light"
     },
     "output_type": "display_data"
    },
    {
     "data": {
      "image/png": "[encoded data removed]",
      "text/plain": [
       "<Figure size 432x288 with 1 Axes>"
      ]
     },
     "metadata": {
      "needs_background": "light"
     },
     "output_type": "display_data"
    }
   ],
   "source": [
    "#Diccionario para almacenar los resultados de las frecuencias de 1 y 0 para primer variable\n",
    "dictMercadoLaboral = {}\n",
    "for e in enMercadoLab: \n",
    "    if e in dictMercadoLaboral.keys():\n",
    "        dictMercadoLaboral[e]+=1\n",
    "    else:\n",
    "        dictMercadoLaboral[e]=1 \n",
    "\n",
    "eje_x = []\n",
    "eje_y = []\n",
    "data = []\n",
    "for e in dictMercadoLaboral.keys():\n",
    "    if e == 1:\n",
    "        eje_x.append(\"Esta en mercado Laboral\")\n",
    "        data.append([\"Esta en mercado Laboral\",dictMercadoLaboral[e] ])\n",
    "    else: \n",
    "        eje_x.append(\"No esta en mercado laboral\")\n",
    "        data.append([\"No esta en mercado laboral\",dictMercadoLaboral[e] ])\n",
    "   \n",
    "    eje_y.append(dictMercadoLaboral[e])\n",
    "\n",
    "fig, ax =plt.subplots(1,1)\n",
    "\n",
    "column_labels=[\"Descripcion\", \"Frecuencia\"]\n",
    "\n",
    "plt.table(cellText=data,colLabels=column_labels,loc=\"center\")\n",
    "ax.axis('tight')\n",
    "ax.axis('off')\n",
    " \n",
    "## Mostramos Gráfica\n",
    "plt.show()\n",
    "\n",
    "plt.bar(eje_x, eje_y)\n",
    "plt.ylabel('Cantidadpersonas')\n",
    "plt.title('Frecuencia de estar o no en mercado laboral')\n",
    "plt.xlabel('Horas laboradas')\n",
    "\n",
    " \n",
    "## Mostramos Gráfica\n",
    "plt.show() "
   ]
  },
  {
   "cell_type": "code",
   "execution_count": 29,
   "metadata": {},
   "outputs": [
    {
     "data": {
      "image/png": "[encoded data removed]",
      "text/plain": [
       "<Figure size 432x288 with 1 Axes>"
      ]
     },
     "metadata": {
      "needs_background": "light"
     },
     "output_type": "display_data"
    },
    {
     "data": {
      "image/png": "[encoded data removed]",
      "text/plain": [
       "<Figure size 432x288 with 1 Axes>"
      ]
     },
     "metadata": {
      "needs_background": "light"
     },
     "output_type": "display_data"
    }
   ],
   "source": [
    "dictLaboradasM={}\n",
    "cantidad = 7 \n",
    "\n",
    "\n",
    "horasLaboradasM = horasLaboradasM.sort_values()\n",
    "minR = float(horasLaboradasM.iat[0])\n",
    "maxR = float(horasLaboradasM.iat[49])\n",
    "\n",
    "rangeInterval = np.linspace(minR, maxR, cantidad)\n",
    "\n",
    "#Crear intervalos en el diccionario para comparar luego los valores \n",
    "\n",
    "for i in range(0, 6, 1):\n",
    "  \n",
    "    interval = (rangeInterval[i], rangeInterval[i+1])\n",
    "    \n",
    "    dictLaboradasM[interval] = 0\n",
    "\n",
    "\n",
    "for i in horasLaboradasM:\n",
    "    for interval in dictLaboradasM.keys():\n",
    "        if i<= interval[1] and i >= interval[0]:\n",
    "            dictLaboradasM[interval] +=1\n",
    "            break\n",
    "\n",
    "eje_x = []\n",
    "eje_y = []\n",
    "data = []\n",
    "for e in dictLaboradasM.keys():\n",
    "    eje_x.append((\"[\"+str(round(e[0])) + \" , \" + str(round(e[1]))+\"]\" ))\n",
    "    eje_y.append(dictLaboradasM[e])\n",
    "    data.append([(\"[\"+str(round(e[0])) + \" , \" + str(round(e[1]))+\"]\" ),dictLaboradasM[e] ])\n",
    "\n",
    "fig, ax =plt.subplots(1,1)\n",
    "\n",
    "column_labels=[\"Descripcion\", \"Frecuencia\"]\n",
    "\n",
    "plt.table(cellText=data,colLabels=column_labels,loc=\"center\")\n",
    "ax.axis('tight')\n",
    "ax.axis('off')\n",
    " \n",
    "## Mostramos Gráfica\n",
    "plt.show()\n",
    "\n",
    "\n",
    "\n",
    "plt.bar(eje_x, eje_y)\n",
    "plt.ylabel('Cantidad mujeres')\n",
    "plt.title('Frecuencia de horas Laboradas mujeres')\n",
    "plt.xlabel('Horas laboradas')\n",
    "plt.xticks(rotation=90)\n",
    " \n",
    "## Mostramos Gráfica\n",
    "plt.show() \n",
    "\n",
    "\n",
    "  \n"
   ]
  },
  {
   "cell_type": "code",
   "execution_count": 30,
   "metadata": {},
   "outputs": [
    {
     "data": {
      "image/png": "[encoded data removed]",
      "text/plain": [
       "<Figure size 432x288 with 1 Axes>"
      ]
     },
     "metadata": {
      "needs_background": "light"
     },
     "output_type": "display_data"
    },
    {
     "data": {
      "image/png": "[encoded data removed]",
      "text/plain": [
       "<Figure size 432x288 with 1 Axes>"
      ]
     },
     "metadata": {
      "needs_background": "light"
     },
     "output_type": "display_data"
    }
   ],
   "source": [
    "#Frecuencia  # hijos menores 6 años\n",
    "dictNiños6 = {}\n",
    "for e in hijos: \n",
    "    if e in dictNiños6.keys():\n",
    "        dictNiños6[e]+=1\n",
    "    else:\n",
    "        dictNiños6[e]=1 \n",
    "\n",
    "eje_x = []\n",
    "eje_y = []\n",
    "data = []\n",
    "for e in dictNiños6.keys():\n",
    "    eje_x.append(str(e))\n",
    "    eje_y.append(dictNiños6[e])\n",
    "    data.append([str(e),dictNiños6[e] ])\n",
    "    \n",
    "fig, ax =plt.subplots(1,1)\n",
    "\n",
    "column_labels=[\"Descripcion\", \"Frecuencia\"]\n",
    "\n",
    "plt.table(cellText=data,colLabels=column_labels,loc=\"center\")\n",
    "ax.axis('tight')\n",
    "ax.axis('off')\n",
    " \n",
    "## Mostramos Gráfica\n",
    "plt.show()\n",
    "plt.bar(eje_x, eje_y)\n",
    "plt.ylabel('Familias con cantidad de hijos menores a 6 años')\n",
    "plt.xlabel('Cantidad de hijos')\n",
    "plt.title('Frecuencia de familias con cantidad de hijos menores a 6 años')\n",
    " \n",
    "## Mostramos Gráfica\n",
    "plt.show()"
   ]
  },
  {
   "cell_type": "code",
   "execution_count": 8,
   "metadata": {},
   "outputs": [
    {
     "data": {
      "image/png": "[encoded data removed]",
      "text/plain": [
       "<Figure size 432x288 with 1 Axes>"
      ]
     },
     "metadata": {
      "needs_background": "light"
     },
     "output_type": "display_data"
    }
   ],
   "source": [
    "#Diccionario para almacenar los resultados de las frecuencias de edad\n",
    "dictEdadM={}\n",
    "cantidad = 7 \n",
    "\n",
    "\n",
    "edadM = edadM.sort_values()\n",
    "minR = float(edadM.iat[0])\n",
    "maxR = float(edadM.iat[49])\n",
    "\n",
    "rangeInterval = np.linspace(minR, maxR, cantidad)\n",
    "\n",
    "#Crear intervalos en el diccionario para comparar luego los valores \n",
    "\n",
    "for i in range(0, 6, 1):\n",
    "  \n",
    "    interval = (rangeInterval[i], rangeInterval[i+1])\n",
    "    \n",
    "    dictEdadM[interval] = 0\n",
    "\n",
    "\n",
    "for i in edadM:\n",
    "    for interval in dictEdadM.keys():\n",
    "        if i<= interval[1] and i >= interval[0]:\n",
    "            dictEdadM[interval] +=1\n",
    "            break\n",
    "\n",
    "eje_x = []\n",
    "eje_y = []\n",
    "data=[]\n",
    "for e in dictEdadM.keys():\n",
    "    eje_x.append((\"[\"+str(round(e[0])) + \" , \" + str(round(e[1]))+\"]\" ))\n",
    "    eje_y.append(dictEdadM[e])\n",
    "    data.append([(\"[\"+str(round(e[0])) + \" , \" + str(round(e[1]))+\"]\" ),dictEdadM[e] ])\n",
    "\n",
    "\n",
    "fig, ax =plt.subplots(1,1)\n",
    "\n",
    "column_labels=[\"Descripcion\", \"Frecuencia\"]\n",
    "\n",
    "plt.table(cellText=data,colLabels=column_labels,loc=\"center\")\n",
    "ax.axis('tight')\n",
    "ax.axis('off')\n",
    "\n",
    "plt.bar(eje_x, eje_y)\n",
    "plt.ylabel('Cantidad mujeres')\n",
    "plt.title('Frecuencia de edad mujeres')\n",
    "plt.xlabel('Edad')\n",
    "plt.xticks(rotation=90)\n",
    " \n",
    "## Mostramos Gráfica\n",
    "plt.show() "
   ]
  },
  {
   "cell_type": "code",
   "execution_count": 9,
   "metadata": {},
   "outputs": [
    {
     "data": {
      "image/png": "[encoded data removed]",
      "text/plain": [
       "<Figure size 432x288 with 1 Axes>"
      ]
     },
     "metadata": {
      "needs_background": "light"
     },
     "output_type": "display_data"
    }
   ],
   "source": [
    "#Frecuencia años educacion esposa\n",
    "\n",
    "dictAñosEducacionM={}\n",
    "cantidad = 7 \n",
    "tiempoEducacionM = tiempoEducacionM.sort_values()\n",
    "minR =float(tiempoEducacionM.iat[0])\n",
    "maxR = float(tiempoEducacionM.iat[49])\n",
    "\n",
    "rangeInterval = np.linspace(minR, maxR, cantidad)\n",
    "\n",
    "#Crear intervalos en el diccionario para comparar luego los valores \n",
    "\n",
    "for i in range(0, 6, 1):\n",
    "  \n",
    "    interval = (rangeInterval[i], rangeInterval[i+1])\n",
    "    \n",
    "    dictAñosEducacionM[interval] = 0\n",
    "\n",
    "\n",
    "for i in tiempoEducacionM:\n",
    "    for interval in dictAñosEducacionM.keys():\n",
    "        if i<= interval[1] and i >= interval[0]:\n",
    "            dictAñosEducacionM[interval] +=1\n",
    "            break\n",
    "\n",
    "eje_x = []\n",
    "eje_y = []\n",
    "for e in  dictAñosEducacionM.keys():\n",
    "    eje_x.append((\"[\"+str(round(e[0])) + \" , \" + str(round(e[1]))+\"]\" ))\n",
    "    eje_y.append( dictAñosEducacionM[e])\n",
    "\n",
    "plt.bar(eje_x, eje_y)\n",
    "plt.ylabel('Cantidad mujeres')\n",
    "plt.title('Frecuencia de años de educacion Mujeres')\n",
    "plt.xlabel('Años de estudio')\n",
    "plt.xticks(rotation=90)\n",
    " \n",
    "## Mostramos Gráfica\n",
    "plt.show() \n",
    "\n"
   ]
  },
  {
   "cell_type": "code",
   "execution_count": 10,
   "metadata": {},
   "outputs": [
    {
     "data": {
      "image/png": "[encoded data removed]",
      "text/plain": [
       "<Figure size 432x288 with 1 Axes>"
      ]
     },
     "metadata": {
      "needs_background": "light"
     },
     "output_type": "display_data"
    }
   ],
   "source": [
    "#Frecuencia de horas laboradas hombres\n",
    "dictLaboradasH={}\n",
    "cantidad = 7 \n",
    "\n",
    "horasLaboradasH = horasLaboradasH.sort_values()\n",
    "maxR = float(horasLaboradasH.iat[49])\n",
    "minR = float(horasLaboradasH.iat[0])\n",
    "\n",
    "rangeInterval = np.linspace(minR, maxR, cantidad)\n",
    "\n",
    "#Crear intervalos en el diccionario para comparar luego los valores \n",
    "\n",
    "for i in range(0, 6, 1):\n",
    "  \n",
    "    interval = (rangeInterval[i], rangeInterval[i+1])\n",
    "    \n",
    "    dictLaboradasH[interval] = 0\n",
    "\n",
    "\n",
    "\n",
    "for i in horasLaboradasH:\n",
    "    for interval in dictLaboradasH.keys():\n",
    "        if i<= interval[1] and i >= interval[0]:\n",
    "            dictLaboradasH[interval] +=1\n",
    "            break\n",
    "\n",
    "eje_x = []\n",
    "eje_y = []\n",
    "for e in dictLaboradasH.keys():\n",
    "    eje_x.append((\"[\"+str(round(e[0])) + \" , \" + str(round(e[1]))+\"]\" ))\n",
    "    eje_y.append(dictLaboradasH[e])\n",
    "\n",
    "plt.bar(eje_x, eje_y)\n",
    "plt.ylabel('Cantidad hombres')\n",
    "plt.title('Frecuencia de horas Laboradas hombres')\n",
    "plt.xlabel(\"Horas laboradas\")\n",
    "plt.xticks(rotation=90)\n",
    " \n",
    "## Mostramos Gráfica\n",
    "plt.show() "
   ]
  },
  {
   "cell_type": "code",
   "execution_count": 11,
   "metadata": {},
   "outputs": [
    {
     "data": {
      "image/png": "[encoded data removed]",
      "text/plain": [
       "<Figure size 432x288 with 1 Axes>"
      ]
     },
     "metadata": {
      "needs_background": "light"
     },
     "output_type": "display_data"
    }
   ],
   "source": [
    "#Diccionario para almacenar los resultados de las frecuencias de edad\n",
    "dictEdadH={}\n",
    "cantidad = 7 \n",
    "\n",
    "\n",
    "edadH = edadH.sort_values()\n",
    "minR = float(edadM.iat[0])\n",
    "maxR = float(edadM.iat[49])\n",
    "\n",
    "rangeInterval = np.linspace(minR, maxR, cantidad)\n",
    "\n",
    "#Crear intervalos en el diccionario para comparar luego los valores \n",
    "\n",
    "for i in range(0, 6, 1):\n",
    "  \n",
    "    interval = (rangeInterval[i], rangeInterval[i+1])\n",
    "    \n",
    "    dictEdadH[interval] = 0\n",
    "\n",
    "\n",
    "for i in edadH:\n",
    "    for interval in dictEdadH.keys():\n",
    "        if i<= interval[1] and i >= interval[0]:\n",
    "            dictEdadH[interval] +=1\n",
    "            break\n",
    "\n",
    "eje_x = []\n",
    "eje_y = []\n",
    "for e in dictEdadH.keys():\n",
    "    eje_x.append((\"[\"+str(round(e[0])) + \" , \" + str(round(e[1]))+\"]\" ))\n",
    "    eje_y.append(dictEdadH[e])\n",
    "\n",
    "plt.bar(eje_x, eje_y)\n",
    "plt.ylabel('Cantidad hombres')\n",
    "plt.title('Frecuencia de edad hombres')\n",
    "plt.xlabel('Edad')\n",
    "plt.xticks(rotation=90)\n",
    " \n",
    "## Mostramos Gráfica\n",
    "plt.show() "
   ]
  },
  {
   "cell_type": "code",
   "execution_count": 12,
   "metadata": {},
   "outputs": [
    {
     "data": {
      "image/png": "[encoded data removed]",
      "text/plain": [
       "<Figure size 432x288 with 1 Axes>"
      ]
     },
     "metadata": {
      "needs_background": "light"
     },
     "output_type": "display_data"
    }
   ],
   "source": [
    "#Frecuencia años educacion esposo\n",
    "\n",
    "dictAñosEducacionH={}\n",
    "cantidad = 7 \n",
    "tiempoEducacionH = tiempoEducacionH.sort_values()\n",
    "minR = float(tiempoEducacionH.iat[0])\n",
    "maxR = float(tiempoEducacionH.iat[49])\n",
    "\n",
    "rangeInterval = np.linspace(minR, maxR, cantidad)\n",
    "\n",
    "#Crear intervalos en el diccionario para comparar luego los valores \n",
    "\n",
    "for i in range(0, 6, 1):\n",
    "  \n",
    "    interval = (rangeInterval[i], rangeInterval[i+1])\n",
    "    \n",
    "    dictAñosEducacionH[interval] = 0\n",
    "\n",
    "\n",
    "for i in tiempoEducacionH:\n",
    "    for interval in dictAñosEducacionH.keys():\n",
    "        if i<= interval[1] and i >= interval[0]:\n",
    "            dictAñosEducacionH[interval] +=1\n",
    "            break\n",
    "\n",
    "eje_x = []\n",
    "eje_y = []\n",
    "for e in  dictAñosEducacionH.keys():\n",
    "    eje_x.append((\"[\"+str(round(e[0])) + \" , \" + str(round(e[1]))+\"]\" ))\n",
    "    eje_y.append( dictAñosEducacionH[e])\n",
    "\n",
    "plt.bar(eje_x, eje_y)\n",
    "plt.ylabel('Cantidad hombres')\n",
    "plt.title('Frecuencia de años de educacion Hombres')\n",
    "plt.xlabel('Años de estudio')\n",
    "plt.xticks(rotation=90)\n",
    " \n",
    "## Mostramos Gráfica\n",
    "plt.show() \n"
   ]
  },
  {
   "cell_type": "code",
   "execution_count": 13,
   "metadata": {},
   "outputs": [
    {
     "data": {
      "image/png": "[encoded data removed]",
      "text/plain": [
       "<Figure size 432x288 with 1 Axes>"
      ]
     },
     "metadata": {
      "needs_background": "light"
     },
     "output_type": "display_data"
    }
   ],
   "source": [
    "#Frecuencia ingreso\n",
    "\n",
    "dictIngresos={}\n",
    "cantidad = 7 \n",
    "ingreso= ingreso.sort_values()\n",
    "minR = float(ingreso.iat[0])\n",
    "maxR = float(ingreso.iat[49])\n",
    "\n",
    "rangeInterval = np.linspace(minR, maxR, cantidad)\n",
    "\n",
    "#Crear intervalos en el diccionario para comparar luego los valores \n",
    "\n",
    "for i in range(0, 6, 1):\n",
    "  \n",
    "    interval = (rangeInterval[i], rangeInterval[i+1])\n",
    "    \n",
    "    dictIngresos[interval] = 0\n",
    "\n",
    "\n",
    "for i in ingreso:\n",
    "    for interval in dictIngresos.keys():\n",
    "        if i<= interval[1] and i >= interval[0]:\n",
    "            dictIngresos[interval] +=1\n",
    "            break\n",
    "\n",
    "eje_x = []\n",
    "eje_y = []\n",
    "for e in  dictIngresos.keys():\n",
    "    eje_x.append((\"[\"+str(round(e[0])) + \" , \" + str(round(e[1]))+\"]\" ))\n",
    "    eje_y.append( dictIngresos[e])\n",
    "\n",
    "plt.bar(eje_x, eje_y)\n",
    "plt.ylabel('Cantidad personas')\n",
    "plt.title('Frecuencia de ingresos')\n",
    "plt.xlabel('Salario')\n",
    "plt.xticks(rotation=90)\n",
    " \n",
    "## Mostramos Gráfica\n",
    "plt.show() \n"
   ]
  },
  {
   "cell_type": "code",
   "execution_count": 14,
   "metadata": {},
   "outputs": [
    {
     "data": {
      "image/png": "[encoded data removed]",
      "text/plain": [
       "<Figure size 432x288 with 1 Axes>"
      ]
     },
     "metadata": {
      "needs_background": "light"
     },
     "output_type": "display_data"
    }
   ],
   "source": [
    "#Frecuencia experiencia Laboral\n",
    "\n",
    "dictExperiencia={}\n",
    "cantidad = 7 \n",
    "experM= experM.sort_values()\n",
    "minR = float(experM.iat[0])\n",
    "maxR = float(experM.iat[49])\n",
    "\n",
    "rangeInterval = np.linspace(minR, maxR, cantidad)\n",
    "\n",
    "#Crear intervalos en el diccionario para comparar luego los valores \n",
    "\n",
    "for i in range(0, 6, 1):\n",
    "  \n",
    "    interval = (rangeInterval[i], rangeInterval[i+1])\n",
    "    \n",
    "    dictExperiencia[interval] = 0\n",
    "\n",
    "\n",
    "for i in experM:\n",
    "    for interval in dictExperiencia.keys():\n",
    "        if i<= interval[1] and i >= interval[0]:\n",
    "            dictExperiencia[interval] +=1\n",
    "            break\n",
    "\n",
    "eje_x = []\n",
    "eje_y = []\n",
    "for e in  dictExperiencia.keys():\n",
    "    eje_x.append((\"[\"+str(round(e[0])) + \" , \" + str(round(e[1]))+\"]\" ))\n",
    "    eje_y.append( dictExperiencia[e])\n",
    "\n",
    "plt.bar(eje_x, eje_y)\n",
    "plt.ylabel('Cantidad personas')\n",
    "plt.title('Frecuencia de años experiencia')\n",
    "plt.xlabel('Años')\n",
    "plt.xticks(rotation=90)\n",
    " \n",
    "## Mostramos Gráfica\n",
    "plt.show() "
   ]
  },
  {
   "cell_type": "code",
   "execution_count": 15,
   "metadata": {},
   "outputs": [
    {
     "data": {
      "image/png": "[encoded data removed]",
      "text/plain": [
       "<Figure size 432x288 with 1 Axes>"
      ]
     },
     "metadata": {
      "needs_background": "light"
     },
     "output_type": "display_data"
    }
   ],
   "source": [
    "#Frecuencia tiene hijo menor a 6 años\n",
    "dictTenerMenor6 = {}\n",
    "for e in hijos6: \n",
    "    if e in dictTenerMenor6.keys():\n",
    "        dictTenerMenor6[e]+=1\n",
    "    else:\n",
    "        dictTenerMenor6[e]=1 \n",
    "\n",
    "eje_x = []\n",
    "eje_y = []\n",
    "for e in dictTenerMenor6.keys():\n",
    "    if e == 1:\n",
    "        eje_x.append(\"Tiene hijo menor a 6\")\n",
    "    else: \n",
    "        eje_x.append(\"No tiene hijo menor a 6\")\n",
    "   \n",
    "    eje_y.append(dictTenerMenor6[e])\n",
    "\n",
    "plt.bar(eje_x, eje_y)\n",
    "plt.ylabel('En mercado laboral')\n",
    "plt.title('Frecuencia de tener o no hijo menor a 6 años')\n",
    " \n",
    "## Mostramos Gráfica\n",
    "plt.show()"
   ]
  },
  {
   "cell_type": "code",
   "execution_count": 16,
   "metadata": {},
   "outputs": [
    {
     "data": {
      "image/png": "[encoded data removed]",
      "text/plain": [
       "<Figure size 432x288 with 1 Axes>"
      ]
     },
     "metadata": {
      "needs_background": "light"
     },
     "output_type": "display_data"
    }
   ],
   "source": [
    "#Frecuencia salario esposa\n",
    "\n",
    "dictSalarioM={}\n",
    "cantidad = 7 \n",
    "salarioM= salarioM.sort_values()\n",
    "minR = float(salarioM.iat[0])\n",
    "maxR = float(salarioM.iat[49])\n",
    "\n",
    "rangeInterval = np.linspace(minR, maxR, cantidad)\n",
    "\n",
    "#Crear intervalos en el diccionario para comparar luego los valores \n",
    "\n",
    "for i in range(0, 6, 1):\n",
    "  \n",
    "    interval = (rangeInterval[i], rangeInterval[i+1])\n",
    "    \n",
    "    dictSalarioM[interval] = 0\n",
    "\n",
    "\n",
    "for i in salarioM:\n",
    "    for interval in dictSalarioM.keys():\n",
    "        if i<= interval[1] and i >= interval[0]:\n",
    "            dictSalarioM[interval] +=1\n",
    "            break\n",
    "\n",
    "eje_x = []\n",
    "eje_y = []\n",
    "for e in  dictSalarioM.keys():\n",
    "    eje_x.append((\"[\"+str(round(e[0])) + \" , \" + str(round(e[1]))+\"]\" ))\n",
    "    eje_y.append( dictSalarioM[e])\n",
    "\n",
    "plt.bar(eje_x, eje_y)\n",
    "plt.ylabel('Cantidad mujeres')\n",
    "plt.title('Frecuencia de salario mujeres por hora')\n",
    "plt.xlabel('Salario')\n",
    "plt.xticks(rotation=90)\n",
    " \n",
    "## Mostramos Gráfica\n",
    "plt.show() "
   ]
  },
  {
   "cell_type": "code",
   "execution_count": 17,
   "metadata": {},
   "outputs": [
    {
     "data": {
      "image/png": "[encoded data removed]",
      "text/plain": [
       "<Figure size 432x288 with 1 Axes>"
      ]
     },
     "metadata": {
      "needs_background": "light"
     },
     "output_type": "display_data"
    }
   ],
   "source": [
    "#Frecuencia salario esposo\n",
    "\n",
    "dictSalarioH={}\n",
    "cantidad = 7 \n",
    "salarioH= salarioH.sort_values()\n",
    "minR = float(salarioH.iat[0])\n",
    "maxR = float(salarioH.iat[49])\n",
    "\n",
    "rangeInterval = np.linspace(minR, maxR, cantidad)\n",
    "\n",
    "#Crear intervalos en el diccionario para comparar luego los valores \n",
    "\n",
    "for i in range(0, 6, 1):\n",
    "  \n",
    "    interval = (rangeInterval[i], rangeInterval[i+1])\n",
    "    \n",
    "    dictSalarioH[interval] = 0\n",
    "\n",
    "\n",
    "for i in salarioH:\n",
    "    for interval in dictSalarioH.keys():\n",
    "        if i<= interval[1] and i >= interval[0]:\n",
    "            dictSalarioH[interval] +=1\n",
    "            break\n",
    "\n",
    "eje_x = []\n",
    "eje_y = []\n",
    "for e in  dictSalarioH.keys():\n",
    "    eje_x.append((\"[\"+str(round(e[0])) + \" , \" + str(round(e[1]))+\"]\" ))\n",
    "    eje_y.append( dictSalarioH[e])\n",
    "\n",
    "plt.bar(eje_x, eje_y)\n",
    "plt.ylabel('Cantidad hombres')\n",
    "plt.title('Frecuencia de salario hombres por hora')\n",
    "plt.xlabel('Salario')\n",
    "plt.xticks(rotation=90)\n",
    "\n",
    " \n",
    "## Mostramos Gráfica\n",
    "plt.show() "
   ]
  },
  {
   "cell_type": "code",
   "execution_count": 18,
   "metadata": {},
   "outputs": [
    {
     "data": {
      "image/png": "[encoded data removed]",
      "text/plain": [
       "<Figure size 432x288 with 1 Axes>"
      ]
     },
     "metadata": {
      "needs_background": "light"
     },
     "output_type": "display_data"
    }
   ],
   "source": [
    "#Frecuencia tipo empleo\n",
    "\n",
    "dictTipoEmpleo = {}\n",
    "for e in tipoEmpleo: \n",
    "    if e in dictTipoEmpleo.keys():\n",
    "        dictTipoEmpleo[e]+=1\n",
    "    else:\n",
    "        dictTipoEmpleo[e]=1 \n",
    "\n",
    "eje_x = []\n",
    "eje_y = []\n",
    "for e in dictTipoEmpleo.keys():\n",
    "\n",
    "    eje_x.append(str(e))\n",
    "    eje_y.append(dictTipoEmpleo[e])\n",
    "\n",
    "plt.bar(eje_x, eje_y)\n",
    "plt.ylabel('Cantidad personas')\n",
    "plt.title('Frecuencia de Tipo empleo')\n",
    " \n",
    "## Mostramos Gráfica\n",
    "plt.show()"
   ]
  },
  {
   "cell_type": "code",
   "execution_count": 19,
   "metadata": {},
   "outputs": [
    {
     "data": {
      "image/png": "[encoded data removed]",
      "text/plain": [
       "<Figure size 432x288 with 1 Axes>"
      ]
     },
     "metadata": {
      "needs_background": "light"
     },
     "output_type": "display_data"
    }
   ],
   "source": [
    "#Frecuencia departamento residencia\n",
    "dictDptoResidencia = {}\n",
    "for e in dptoResidencia: \n",
    "    if e in dictDptoResidencia.keys():\n",
    "        dictDptoResidencia[e]+=1\n",
    "    else:\n",
    "        dictDptoResidencia[e]=1 \n",
    "\n",
    "\n",
    "sortDpto= sorted(dictDptoResidencia.items())\n",
    "\n",
    "eje_x = []\n",
    "eje_y = []\n",
    "for e in sortDpto:\n",
    "   \n",
    "\n",
    "    eje_x.append(str(e[0]))\n",
    "    eje_y.append(e[1])\n",
    "\n",
    "plt.bar(eje_x, eje_y)\n",
    "plt.ylabel('Cantidad personas')\n",
    "plt.title('Frecuencia Dpto Residencia')\n",
    " \n",
    "## Mostramos Gráfica\n",
    "plt.show()"
   ]
  },
  {
   "cell_type": "markdown",
   "metadata": {},
   "source": [
    "Promedio"
   ]
  },
  {
   "cell_type": "code",
   "execution_count": 20,
   "metadata": {},
   "outputs": [
    {
     "name": "stdout",
     "output_type": "stream",
     "text": [
      "#####Método Pandas\n",
      "Salario promedio de los esposos es: 29563.984816\n",
      "Salario promedio de las esposas es: 12387.886062\n",
      "#####Método manual\n",
      "Salario promedio de los esposos es: 29563.984816\n",
      "Salario promedio de los esposos es: 12387.886062\n"
     ]
    }
   ],
   "source": [
    "promedioH = salarioH.mean()\n",
    "promedioM = salarioM.mean()\n",
    "print(\"#####Método Pandas\")\n",
    "print(\"Salario promedio de los esposos es: \" +str(promedioH))\n",
    "print(\"Salario promedio de las esposas es: \" +str(promedioM))\n",
    "print(\"#####Método manual\")\n",
    "\n",
    "promedioManualH=0\n",
    "for e in salarioH: \n",
    "    promedioManualH+=float(e)\n",
    "    \n",
    "\n",
    "promedioManualH= promedioManualH/float(salarioH.size)\n",
    "print(\"Salario promedio de los esposos es: \" + str(promedioManualH))\n",
    "\n",
    "promedioManualM=0\n",
    "for e in salarioM: \n",
    "    promedioManualM+=float(e)\n",
    "    \n",
    "\n",
    "promedioManualM= promedioManualM/float(salarioM.size)\n",
    "print(\"Salario promedio de los esposos es: \" + str(promedioManualM))"
   ]
  },
  {
   "cell_type": "markdown",
   "metadata": {},
   "source": [
    "Histograma"
   ]
  },
  {
   "cell_type": "code",
   "execution_count": 21,
   "metadata": {},
   "outputs": [
    {
     "data": {
      "image/png": "[encoded data removed]",
      "text/plain": [
       "<Figure size 432x288 with 1 Axes>"
      ]
     },
     "metadata": {
      "needs_background": "light"
     },
     "output_type": "display_data"
    }
   ],
   "source": [
    "#Histograma\n",
    "\n",
    "plt.figure()\n",
    "plt.hist(edadH,bins=7)#,density=True)\n",
    "plt.show()\n",
    "\n"
   ]
  },
  {
   "cell_type": "markdown",
   "metadata": {},
   "source": [
    "Probabilidad edad promedio en mercado laboral\n"
   ]
  },
  {
   "cell_type": "code",
   "execution_count": 22,
   "metadata": {},
   "outputs": [
    {
     "name": "stdout",
     "output_type": "stream",
     "text": [
      "La probabilidad de estar en el mercado laboral siendo mujer promedio es 17.36 %\n"
     ]
    }
   ],
   "source": [
    "promedioEdadM = edadM.mean()\n",
    "promedioEdadManualM=0\n",
    "for e in edadM: \n",
    "   promedioEdadManualM+=float(e)\n",
    "\n",
    "promedioEdadManualM= promedioEdadManualM/float(edadM.size)\n",
    "\n",
    "\n",
    "intervalo = ()\n",
    "\n",
    "for interval in dictEdadM.keys():\n",
    "        if promedioEdadM<= interval[1] and promedioEdadM >= interval[0]:\n",
    "            intervalo = interval, dictEdadM[interval]\n",
    "\n",
    "\n",
    "\n",
    "probEstarPromedio = intervalo[1]/float(edadM.size)\n",
    "\n",
    "estarMercadoLaboral = dictMercadoLaboral[1]\n",
    "probEstarMercadoLaboral = estarMercadoLaboral/float(enMercadoLab.size)\n",
    "\n",
    "#Asumiendo que ambas propabilidades son independientes \n",
    "probMercadoMujer= probEstarMercadoLaboral*probEstarPromedio*100\n",
    "\n",
    "\n",
    "\n",
    "\n",
    "print(f\"La probabilidad de estar en el mercado laboral siendo mujer promedio es {probMercadoMujer} %\")"
   ]
  },
  {
   "cell_type": "markdown",
   "metadata": {},
   "source": [
    "Probabilidad edad promedio No en mercado laboral"
   ]
  },
  {
   "cell_type": "code",
   "execution_count": 23,
   "metadata": {},
   "outputs": [
    {
     "name": "stdout",
     "output_type": "stream",
     "text": [
      "La probabilidad de no estar en el mercado laboral siendo mujer promedio es 10.64 %\n"
     ]
    }
   ],
   "source": [
    "promedioEdadM = edadM.mean()\n",
    "intervalo = ()\n",
    "\n",
    "for interval in dictEdadM.keys():\n",
    "        if promedioEdadM<= interval[1] and promedioEdadM >= interval[0]:\n",
    "            intervalo = interval, dictEdadM[interval]\n",
    "\n",
    "probEstarPromedio = intervalo[1]/float(edadM.size)\n",
    "noEstarMercadoLaboral = dictMercadoLaboral[0]\n",
    "\n",
    "\n",
    "#Asumiendo que ambas propabilidades son independientes \n",
    "probNoEstarMercadoLaboral = noEstarMercadoLaboral/float(enMercadoLab.size)\n",
    "probNoMercadoMujer= probNoEstarMercadoLaboral*probEstarPromedio*100\n",
    "\n",
    "\n",
    "print(f\"La probabilidad de no estar en el mercado laboral siendo mujer promedio es {probNoMercadoMujer} %\")"
   ]
  },
  {
   "cell_type": "code",
   "execution_count": 24,
   "metadata": {},
   "outputs": [
    {
     "name": "stdout",
     "output_type": "stream",
     "text": [
      "La probabilidad de estar en el mercado laboral siendo mujer promedio, localizando los datos que lo cumplen es 16.0 %\n"
     ]
    }
   ],
   "source": [
    "\n",
    "##Obtencion probabilidad ser mujer promedio y estar en mercado laboral\n",
    "subDataMujerMercado = newDatos.loc[(newDatos[\"inlf\"] == 1) & (newDatos['edad_esposa'] <= 44.5)&(newDatos['edad_esposa'] >= 39.666666666)]\n",
    "cantidad = subDataMujerMercado.shape[0]\n",
    "\n",
    "\n",
    "prom = cantidad/newDatos.shape[0]*100\n",
    "print(f\"La probabilidad de estar en el mercado laboral siendo mujer promedio, localizando los datos que lo cumplen es {prom} %\")\n"
   ]
  },
  {
   "cell_type": "code",
   "execution_count": 25,
   "metadata": {},
   "outputs": [
    {
     "name": "stdout",
     "output_type": "stream",
     "text": [
      "La probabilidad de no estar en el mercado laboral siendo mujer promedio, localizando los datos que lo cumplen es 12.0 %\n"
     ]
    }
   ],
   "source": [
    "\n",
    "##Obtencion probabilidad ser mujer promedio y estar en mercado laboral\n",
    "subDataMujernoMercado = newDatos.loc[(newDatos[\"inlf\"] == 0) & (newDatos['edad_esposa'] <= 44.5)&(newDatos['edad_esposa'] >= 39.666666666)]\n",
    "\n",
    "cantidadNo = subDataMujernoMercado.shape[0]\n",
    "\n",
    "\n",
    "promNo = cantidadNo/50*100\n",
    "print(f\"La probabilidad de no estar en el mercado laboral siendo mujer promedio, localizando los datos que lo cumplen es {promNo} %\")"
   ]
  }
 ],
 "metadata": {
  "interpreter": {
   "hash": "830080f874d268888dd9816c5d8f6b3aa35eaa76c211451f50be35c683fc294f"
  },
  "kernelspec": {
   "display_name": "Python 3.9.5 64-bit",
   "language": "python",
   "name": "python3"
  },
  "language_info": {
   "codemirror_mode": {
    "name": "ipython",
    "version": 3
   },
   "file_extension": ".py",
   "mimetype": "text/x-python",
   "name": "python",
   "nbconvert_exporter": "python",
   "pygments_lexer": "ipython3",
   "version": "3.9.5"
  },
  "orig_nbformat": 4
 },
 "nbformat": 4,
 "nbformat_minor": 2
}
